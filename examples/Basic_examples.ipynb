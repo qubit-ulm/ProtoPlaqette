{
 "cells": [
  {
   "cell_type": "markdown",
   "id": "b5dfd14a-b797-45b7-9105-737297f928f5",
   "metadata": {},
   "source": [
    "# Error correction examples"
   ]
  },
  {
   "cell_type": "code",
   "execution_count": 1,
   "id": "deacc6cf-b68d-4529-a073-05820cee16ca",
   "metadata": {},
   "outputs": [],
   "source": [
    "from error_correction_sim import codes, error_models, decoders, utils, visualizer, app"
   ]
  },
  {
   "cell_type": "code",
   "execution_count": 2,
   "id": "377ce5d0-0221-414f-b81a-1b01776a28a5",
   "metadata": {},
   "outputs": [],
   "source": [
    "import matplotlib.pyplot as plt\n",
    "plt.rcParams['figure.figsize'] = [5, 5]"
   ]
  },
  {
   "cell_type": "markdown",
   "id": "c9421ed4-6ddc-49a2-937e-96d20b36dbf5",
   "metadata": {
    "tags": []
   },
   "source": [
    "## Examples with no measurement error"
   ]
  },
  {
   "cell_type": "markdown",
   "id": "78bb7e6f-b5cd-4084-8a82-b9b03dc09407",
   "metadata": {
    "tags": []
   },
   "source": [
    "### Five qubit code with lookup decoder"
   ]
  },
  {
   "cell_type": "markdown",
   "id": "7e66b746-6f28-42fd-a513-64d2879ecb16",
   "metadata": {},
   "source": [
    "Initialize the parameters, the code, error model and decoder"
   ]
  },
  {
   "cell_type": "code",
   "execution_count": 3,
   "id": "d514c087-d1b3-4bc8-baff-25ffbe1cf222",
   "metadata": {},
   "outputs": [],
   "source": [
    "p_qubit = 0.2 # Probability of qubit error\n",
    "\n",
    "my_code = codes.FiveQubitCode()\n",
    "my_q_errormodel = error_models.PhaseFlipError(p_qubit)\n",
    "my_decoder = decoders.LookupDecoder()"
   ]
  },
  {
   "cell_type": "markdown",
   "id": "068efcff-cbeb-44f7-a93a-302252d5f3d6",
   "metadata": {},
   "source": [
    "Get one instance of errors"
   ]
  },
  {
   "cell_type": "code",
   "execution_count": 4,
   "id": "9103e080-6b9e-440e-915d-b1797e3b8c8c",
   "metadata": {},
   "outputs": [],
   "source": [
    "pauli_qubit_errors = my_q_errormodel.error_str(my_code.no_qubits)\n",
    "qubit_errors = utils.pauli_to_binary(pauli_qubit_errors)"
   ]
  },
  {
   "cell_type": "markdown",
   "id": "cb76e6d4-037b-4af8-8da0-1df46eaf1e82",
   "metadata": {},
   "source": [
    "Obtain error syndrome and use decoder to find the correction"
   ]
  },
  {
   "cell_type": "code",
   "execution_count": 5,
   "id": "540d155c-73c6-40dc-ac45-731efc2ca5d6",
   "metadata": {},
   "outputs": [],
   "source": [
    "syndrome, final_state = utils.errors2syndrome(my_code, qubit_errors)\n",
    "correction = my_decoder.decode_wrapper(my_code, syndrome)"
   ]
  },
  {
   "cell_type": "markdown",
   "id": "49ebb274-4604-4e6e-b7e9-d878cda55153",
   "metadata": {},
   "source": [
    "Check if the decoding was succesful"
   ]
  },
  {
   "cell_type": "code",
   "execution_count": 6,
   "id": "9ab91935-c0a1-41bf-ae10-7b97f645e59a",
   "metadata": {},
   "outputs": [
    {
     "name": "stdout",
     "output_type": "stream",
     "text": [
      "Error instance: IIZII\n",
      "Recovery oper.: IIZII\n",
      "Success of decoding: True\n"
     ]
    }
   ],
   "source": [
    "print(\"Error instance: \" + final_state)\n",
    "print(\"Recovery oper.: \" + correction)\n",
    "print(\"Success of decoding:\", utils.get_success(correction, final_state, my_code))"
   ]
  },
  {
   "cell_type": "markdown",
   "id": "278fc79c-db2d-48e5-9e21-3aaeaf0db011",
   "metadata": {},
   "source": [
    "Can also do many repititions of the above operations to find the logical error rate in one go"
   ]
  },
  {
   "cell_type": "code",
   "execution_count": 7,
   "id": "2ed7b29d-e44b-460a-a552-0fee25763d82",
   "metadata": {},
   "outputs": [
    {
     "name": "stdout",
     "output_type": "stream",
     "text": [
      "Logical error rate: 0.27\n"
     ]
    }
   ],
   "source": [
    "print(\"Logical error rate:\", app.logical_error_rate(my_code, my_decoder, my_q_errormodel, p_qubit, reps = 100))"
   ]
  },
  {
   "cell_type": "markdown",
   "id": "37dd9207-1954-4fd8-a886-4f8b20e94c44",
   "metadata": {
    "tags": []
   },
   "source": [
    "### Surface code with min-weight perfect matching decoder"
   ]
  },
  {
   "cell_type": "markdown",
   "id": "b442551f-8d6b-4b91-b004-dbc09e0613a6",
   "metadata": {},
   "source": [
    "Initialize the parameters, the code, error model and decoder"
   ]
  },
  {
   "cell_type": "code",
   "execution_count": 8,
   "id": "eb4ffc94-dfeb-497a-88ec-1c01b0465e9b",
   "metadata": {},
   "outputs": [],
   "source": [
    "code_size = 4 # Size of surface code (no. of plaquettes in each dimension)\n",
    "p_qubit = 0.1 # Probability of qubit error\n",
    "\n",
    "my_code = codes.SurfaceCode(code_size)\n",
    "my_q_errormodel = error_models.DepolarizingError(p_qubit)\n",
    "my_decoder = decoders.MWPMDecoder()"
   ]
  },
  {
   "cell_type": "markdown",
   "id": "c66d8e21-2750-4e37-afa2-814eb5055bbc",
   "metadata": {},
   "source": [
    "Get one instance of errors"
   ]
  },
  {
   "cell_type": "code",
   "execution_count": 9,
   "id": "ed35ed4b-727c-4c3a-a70a-8a554269a2da",
   "metadata": {},
   "outputs": [],
   "source": [
    "pauli_qubit_errors = my_q_errormodel.error_str(my_code.no_qubits)\n",
    "qubit_errors = utils.pauli_to_binary(pauli_qubit_errors)"
   ]
  },
  {
   "cell_type": "markdown",
   "id": "d0fe60c3-61f4-49db-bd23-6a043c3a1956",
   "metadata": {},
   "source": [
    "Obtain error syndrome and use decoder to find the correction"
   ]
  },
  {
   "cell_type": "code",
   "execution_count": 10,
   "id": "e7cb10e7-696a-4bb9-811a-b5bfec0a5a5d",
   "metadata": {},
   "outputs": [],
   "source": [
    "syndrome, final_state = utils.errors2syndrome(my_code, qubit_errors)\n",
    "correction = my_decoder.decode_wrapper(my_code, syndrome, p_qubit)"
   ]
  },
  {
   "cell_type": "markdown",
   "id": "de904779-e526-4baf-aa76-582c6c921d14",
   "metadata": {},
   "source": [
    "Check if the decoding was succesful"
   ]
  },
  {
   "cell_type": "code",
   "execution_count": 11,
   "id": "70d6be2e-23eb-46ca-924d-98dbb423fc4b",
   "metadata": {},
   "outputs": [
    {
     "name": "stdout",
     "output_type": "stream",
     "text": [
      "Success of decoding: True\n"
     ]
    }
   ],
   "source": [
    "print(\"Success of decoding:\", utils.get_success(correction, final_state, my_code))"
   ]
  },
  {
   "cell_type": "markdown",
   "id": "5da4166e-e2b6-41e8-b77d-0fdec0a4c7fb",
   "metadata": {},
   "source": [
    "Plot the surface code along with the final state with errors (red) and the correction applied (green)"
   ]
  },
  {
   "cell_type": "code",
   "execution_count": 12,
   "id": "5cbf5ce0-cb90-4cc5-a2ab-5d7afcc8951b",
   "metadata": {},
   "outputs": [
    {
     "data": {
      "image/png": "[encoded data removed]",
      "text/plain": [
       "<Figure size 500x500 with 1 Axes>"
      ]
     },
     "metadata": {},
     "output_type": "display_data"
    }
   ],
   "source": [
    "s = visualizer.SurfacePlot(code_size, final_state, correction)\n",
    "s.plot_all(draw_anc_YN=False)"
   ]
  },
  {
   "cell_type": "markdown",
   "id": "1b5a4bbb-e490-4815-9dc1-575ccb640288",
   "metadata": {},
   "source": [
    "Can also do many repititions of the above operations to find the logical error rate in one go"
   ]
  },
  {
   "cell_type": "code",
   "execution_count": 13,
   "id": "7c358b14-888f-462b-9ea9-e01e5906391a",
   "metadata": {},
   "outputs": [
    {
     "name": "stdout",
     "output_type": "stream",
     "text": [
      "Logical error rate: 0.11099999999999999\n"
     ]
    }
   ],
   "source": [
    "print(\"Logical error rate:\", app.logical_error_rate(my_code, my_decoder, my_q_errormodel, p_qubit, reps = 1000))"
   ]
  },
  {
   "cell_type": "markdown",
   "id": "bac0c03b-c01c-477e-99cf-7317f02e332d",
   "metadata": {
    "tags": []
   },
   "source": [
    "## Examples with measurement error"
   ]
  },
  {
   "cell_type": "markdown",
   "id": "436b720f-b5dd-4d23-b488-2e58ffd60536",
   "metadata": {
    "tags": []
   },
   "source": [
    "### Surface code with MWPM decoder"
   ]
  },
  {
   "cell_type": "markdown",
   "id": "3c38e530-9004-4a72-905b-6396b82fa923",
   "metadata": {},
   "source": [
    "Set parameters"
   ]
  },
  {
   "cell_type": "code",
   "execution_count": 14,
   "id": "212f065c-585a-40de-83d6-8832436fd8b2",
   "metadata": {},
   "outputs": [],
   "source": [
    "code_size = 4 # Size of surface code\n",
    "repetitions = 4 # Number of measurement repetition\n",
    "p_qubit = 0.1 # Probability of qubit error\n",
    "p_meas = 0.02 # Probability of measurement error"
   ]
  },
  {
   "cell_type": "markdown",
   "id": "030fbeed-b668-47b8-ba46-f7b0b55a4e31",
   "metadata": {},
   "source": [
    "Initialize the objects for the surface code, depolarizing error, measurement error and decoder"
   ]
  },
  {
   "cell_type": "code",
   "execution_count": 15,
   "id": "be81c1d0-9f6e-41da-b94d-824a2b6821a6",
   "metadata": {},
   "outputs": [],
   "source": [
    "my_code = codes.SurfaceCode(code_size)\n",
    "my_q_errormodel = error_models.DepolarizingError(p_qubit)\n",
    "my_m_errormodel = error_models.MeasurementError(p_meas)\n",
    "my_decoder = decoders.MWPMDecoder()"
   ]
  },
  {
   "cell_type": "markdown",
   "id": "4ef4d5b3-02de-4131-b0ee-1ae06676a617",
   "metadata": {},
   "source": [
    "Get one instance of errors"
   ]
  },
  {
   "cell_type": "code",
   "execution_count": 16,
   "id": "ae59e963-e4e0-466a-927b-ba84f4fbfa11",
   "metadata": {},
   "outputs": [],
   "source": [
    "pauli_qubit_errors = my_q_errormodel.error_str(my_code.no_qubits, reps = repetitions)\n",
    "qubit_errors = utils.pauli_to_binary(pauli_qubit_errors)\n",
    "measurement_error = my_m_errormodel.m_errors(repetitions, len(my_code.stabilizers))"
   ]
  },
  {
   "cell_type": "markdown",
   "id": "8b71c563-e900-40cf-a0c4-6ca48c5348bf",
   "metadata": {},
   "source": [
    "Find syndrome for the given instance of the errors"
   ]
  },
  {
   "cell_type": "code",
   "execution_count": 17,
   "id": "6788e55a-981d-436a-b973-a275d4b571ca",
   "metadata": {},
   "outputs": [],
   "source": [
    "diff_syndrome, final_state = utils.errors2syndrome(my_code, qubit_errors, measurement_error)"
   ]
  },
  {
   "cell_type": "markdown",
   "id": "2e479f00-ef3f-4d81-8ba6-b220d95c2b1e",
   "metadata": {},
   "source": [
    "Use decoder to determine a correction"
   ]
  },
  {
   "cell_type": "code",
   "execution_count": 18,
   "id": "4373540a-e982-4ff1-a5bc-75dd1c8ddad3",
   "metadata": {},
   "outputs": [
    {
     "name": "stdout",
     "output_type": "stream",
     "text": [
      "Correction success: True\n"
     ]
    }
   ],
   "source": [
    "correction = my_decoder.decode_wrapper(my_code, diff_syndrome, p_qubit, p_meas)\n",
    "print(\"Correction success: \" + str(utils.get_success(correction, final_state, my_code)))"
   ]
  },
  {
   "cell_type": "code",
   "execution_count": 19,
   "id": "57a07e58-bdec-45a4-9e04-78264616db46",
   "metadata": {},
   "outputs": [
    {
     "data": {
      "image/png": "[encoded data removed]",
      "text/plain": [
       "<Figure size 500x500 with 1 Axes>"
      ]
     },
     "metadata": {},
     "output_type": "display_data"
    }
   ],
   "source": [
    "s = visualizer.SurfacePlot(code_size, final_state, correction)\n",
    "s.plot_all(draw_anc_YN=False)"
   ]
  },
  {
   "cell_type": "markdown",
   "id": "441a1ce9-1d16-4787-88e4-0ce7ac282d55",
   "metadata": {},
   "source": [
    "Can also do many repititions of the above operations to find the logical error rate in one go"
   ]
  },
  {
   "cell_type": "code",
   "execution_count": 20,
   "id": "324e45ad-ed9d-4a0d-a748-27df61dbf517",
   "metadata": {},
   "outputs": [
    {
     "name": "stdout",
     "output_type": "stream",
     "text": [
      "Logical error rate: 0.47\n"
     ]
    }
   ],
   "source": [
    "print(\"Logical error rate:\", \n",
    "      app.logical_error_rate(my_code, my_decoder, my_q_errormodel, p_qubit, my_m_errormodel, p_meas, m_reps = repetitions, reps=100))"
   ]
  },
  {
   "cell_type": "code",
   "execution_count": null,
   "id": "c70d3622-1a69-4371-99a4-6e6f351f0679",
   "metadata": {},
   "outputs": [],
   "source": []
  },
  {
   "cell_type": "code",
   "execution_count": null,
   "id": "ae25cb11-61a9-4d88-b88e-20f773f95e5e",
   "metadata": {},
   "outputs": [],
   "source": []
  },
  {
   "cell_type": "code",
   "execution_count": null,
   "id": "3326aecd-c650-4144-ae14-57c3054b94fe",
   "metadata": {},
   "outputs": [],
   "source": []
  },
  {
   "cell_type": "code",
   "execution_count": null,
   "id": "729ba154-77f6-457f-b7d9-5a48476d14df",
   "metadata": {},
   "outputs": [],
   "source": []
  },
  {
   "cell_type": "code",
   "execution_count": null,
   "id": "0346e27d-e204-4dcb-b8d6-ccebfb2f3e9c",
   "metadata": {},
   "outputs": [],
   "source": []
  },
  {
   "cell_type": "code",
   "execution_count": null,
   "id": "7bccebf9-f9e4-4a7c-837f-f118fd7a72a8",
   "metadata": {},
   "outputs": [],
   "source": []
  }
 ],
 "metadata": {
  "kernelspec": {
   "display_name": "Python 3 (ipykernel)",
   "language": "python",
   "name": "python3"
  },
  "language_info": {
   "codemirror_mode": {
    "name": "ipython",
    "version": 3
   },
   "file_extension": ".py",
   "mimetype": "text/x-python",
   "name": "python",
   "nbconvert_exporter": "python",
   "pygments_lexer": "ipython3",
   "version": "3.10.6"
  }
 },
 "nbformat": 4,
 "nbformat_minor": 5
}
