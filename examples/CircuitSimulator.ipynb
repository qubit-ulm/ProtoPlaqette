{
 "cells": [
  {
   "cell_type": "markdown",
   "id": "a3abe7b1-ebfe-4d4f-9d5a-3d75d30d658d",
   "metadata": {},
   "source": [
    "# Stabilizer state simulator"
   ]
  },
  {
   "cell_type": "code",
   "execution_count": 1,
   "id": "df70d21f-fef5-42b9-9417-ddb6f88d8510",
   "metadata": {},
   "outputs": [],
   "source": [
    "from error_correction_sim import tableau\n",
    "from numpy import random"
   ]
  },
  {
   "cell_type": "markdown",
   "id": "be2ff646-ae40-46bd-bc94-45b423091087",
   "metadata": {},
   "source": [
    "Construct an initial state in the state |0000>"
   ]
  },
  {
   "cell_type": "code",
   "execution_count": 2,
   "id": "65eebddd-b6a0-4bd6-b7bf-3d5245ffdcb0",
   "metadata": {
    "tags": []
   },
   "outputs": [
    {
     "name": "stdout",
     "output_type": "stream",
     "text": [
      "Stabilizer generators:\n",
      "+ Z0\n",
      "+ Z1\n",
      "+ Z2\n",
      "+ Z3\n",
      "+ Z4\n"
     ]
    }
   ],
   "source": [
    "num_qubits = 5\n",
    "psi = tableau.QuantumState(num_qubits)\n",
    "psi.display_state_pauli()"
   ]
  },
  {
   "cell_type": "markdown",
   "id": "3e1da5de-279c-4f6a-98ba-309313ce5eda",
   "metadata": {},
   "source": [
    "and apply some Clifford gates on them."
   ]
  },
  {
   "cell_type": "code",
   "execution_count": 3,
   "id": "cf4cd94f-e6ff-4c7a-af77-422c121a64f8",
   "metadata": {},
   "outputs": [
    {
     "name": "stdout",
     "output_type": "stream",
     "text": [
      "Stabilizer generators:\n",
      "- Z0 Z3\n",
      "+ Z1 Z2\n",
      "+ X1 X2 Z3\n",
      "+ Z3\n",
      "- Z4\n"
     ]
    }
   ],
   "source": [
    "psi.hadamard(2)\n",
    "psi.cz([(2,3),(3,5)])\n",
    "psi.X([0,4])\n",
    "psi.cx((2,1))\n",
    "psi.display_state_pauli()"
   ]
  },
  {
   "cell_type": "markdown",
   "id": "3c34aba0-aad7-4d83-aa8b-5a3c57495f72",
   "metadata": {},
   "source": [
    "Another display format:"
   ]
  },
  {
   "cell_type": "code",
   "execution_count": 4,
   "id": "c477d1d9-a950-49df-a03e-881e9a89a928",
   "metadata": {},
   "outputs": [
    {
     "name": "stdout",
     "output_type": "stream",
     "text": [
      "Stabilizer generators:\n",
      "-ZIIZI\n",
      "+IZZII\n",
      "+IXXZI\n",
      "+IIIZI\n",
      "-IIIIZ\n"
     ]
    }
   ],
   "source": [
    "psi.display_state_pauli(show_identities=True)"
   ]
  },
  {
   "cell_type": "markdown",
   "id": "f844c0dd-8a08-46be-ba82-5477193720eb",
   "metadata": {},
   "source": [
    "#### Example: linear cluster state. \n",
    "Function to construct an n-qubit linear cluster state"
   ]
  },
  {
   "cell_type": "code",
   "execution_count": 5,
   "id": "d58132ee-0d09-4553-93f5-1c24c5ab2c28",
   "metadata": {},
   "outputs": [],
   "source": [
    "def linear_cluster(n):\n",
    "    cluster = tableau.QuantumState(n)\n",
    "    cluster.hadamard(range(n))\n",
    "    cluster.cz(zip(range(n),range(1,n)))\n",
    "    return cluster"
   ]
  },
  {
   "cell_type": "markdown",
   "id": "870ad696-afc4-4bcc-9c20-ee90e416622d",
   "metadata": {},
   "source": [
    "Construct a cluster state"
   ]
  },
  {
   "cell_type": "code",
   "execution_count": 6,
   "id": "13230e72-0a3f-4370-810d-bdafa663e5db",
   "metadata": {},
   "outputs": [
    {
     "name": "stdout",
     "output_type": "stream",
     "text": [
      "Stabilizer generators:\n",
      "+XZIII\n",
      "+ZXZII\n",
      "+IZXZI\n",
      "+IIZXZ\n",
      "+IIIZX\n"
     ]
    }
   ],
   "source": [
    "psi = linear_cluster(num_qubits)\n",
    "psi.display_state_pauli(show_identities=True)"
   ]
  },
  {
   "cell_type": "markdown",
   "id": "75f20c1a-ae19-4828-aef4-b00294bc51a9",
   "metadata": {},
   "source": [
    "and add a qubit to the state."
   ]
  },
  {
   "cell_type": "code",
   "execution_count": 7,
   "id": "26bc6f6e-ac99-4009-9bec-9beb53e801f7",
   "metadata": {},
   "outputs": [
    {
     "name": "stdout",
     "output_type": "stream",
     "text": [
      "Stabilizer generators:\n",
      "+XZIIII\n",
      "+ZXZIII\n",
      "+IZXZII\n",
      "+IIZXZI\n",
      "+IIIZXI\n",
      "+IIIIIZ\n"
     ]
    }
   ],
   "source": [
    "psi.add_qubit()\n",
    "psi.display_state_pauli(show_identities=True)"
   ]
  },
  {
   "cell_type": "markdown",
   "id": "4d6e052c-af09-4f6a-8d27-b15fc37d19b4",
   "metadata": {},
   "source": [
    "We can make a linear cluster state of num_qubits+1 qubits:"
   ]
  },
  {
   "cell_type": "code",
   "execution_count": 8,
   "id": "c11ae220-ae30-4bf1-b858-bfe54b90c380",
   "metadata": {},
   "outputs": [
    {
     "name": "stdout",
     "output_type": "stream",
     "text": [
      "Stabilizer generators:\n",
      "+XZIIII\n",
      "+ZXZIII\n",
      "+IZXZII\n",
      "+IIZXZI\n",
      "+IIIZXZ\n",
      "+IIIIZX\n"
     ]
    }
   ],
   "source": [
    "psi.hadamard(num_qubits)\n",
    "psi.cz((num_qubits-1,num_qubits))\n",
    "psi.display_state_pauli(show_identities=True)"
   ]
  },
  {
   "cell_type": "markdown",
   "id": "75240ba9-3191-4ecf-b7f8-d37ac551c742",
   "metadata": {},
   "source": [
    "Reset qubit 1 to |+> state (positive eigenvalue of 'X' operator)"
   ]
  },
  {
   "cell_type": "code",
   "execution_count": 9,
   "id": "3cf596c9-1b6a-46fe-bd2d-33c7fd6b3c11",
   "metadata": {},
   "outputs": [
    {
     "name": "stdout",
     "output_type": "stream",
     "text": [
      "Stabilizer generators:\n",
      "+IXIIII\n",
      "-ZXZIII\n",
      "+XIXZII\n",
      "+IIZXZI\n",
      "+IIIZXZ\n",
      "+IIIIZX\n"
     ]
    }
   ],
   "source": [
    "psi.reset_qubit('X',1)\n",
    "psi.display_state_pauli(show_identities=True)"
   ]
  },
  {
   "cell_type": "markdown",
   "id": "bfa20a0b-91d8-495b-9de8-d0d711780821",
   "metadata": {},
   "source": [
    "Measure the first two qubit in the Z basis. Non-destructive measurement collapses the state of the first qubit to |0> or|1>."
   ]
  },
  {
   "cell_type": "code",
   "execution_count": 10,
   "id": "8db37a22-cefe-4e6c-a0fc-9ce4be1377ed",
   "metadata": {},
   "outputs": [
    {
     "name": "stdout",
     "output_type": "stream",
     "text": [
      "Measurement outcome: [0, 0]\n",
      "Stabilizer generators:\n",
      "+ Z1\n",
      "- Z0 Z2\n",
      "+ Z0\n",
      "+ Z2 X3 Z4\n",
      "+ Z3 X4 Z5\n",
      "+ Z4 X5\n"
     ]
    }
   ],
   "source": [
    "outcome = psi.measure_nondest('Z',[0,1])\n",
    "print(\"Measurement outcome:\",outcome)\n",
    "psi.display_state_pauli()"
   ]
  },
  {
   "cell_type": "markdown",
   "id": "55b3bd08-f42c-4a90-9282-ff8e1dec6ac3",
   "metadata": {},
   "source": [
    "Destructive measurement also traces out the qubit and renames qubits to make the numbering sequential"
   ]
  },
  {
   "cell_type": "code",
   "execution_count": 11,
   "id": "e066a824-311b-4868-b187-73f2232555ce",
   "metadata": {},
   "outputs": [
    {
     "name": "stdout",
     "output_type": "stream",
     "text": [
      "Measurement outcome: [0]\n",
      "Stabilizer generators:\n",
      "+ Z0\n",
      "- Z1\n",
      "+ Z1 X2 Z3\n",
      "+ Z2 X3 Z4\n",
      "+ Z3 X4\n"
     ]
    }
   ],
   "source": [
    "outcome = psi.measure_dest('X',[0])\n",
    "print(\"Measurement outcome:\",outcome)\n",
    "psi.display_state_pauli()"
   ]
  },
  {
   "cell_type": "markdown",
   "id": "f11d917d-ccfb-4eb4-8e8d-8ae489dfcd04",
   "metadata": {},
   "source": [
    "Can add a qubit in the desired location if you want numbering to remain unchanged"
   ]
  },
  {
   "cell_type": "code",
   "execution_count": 12,
   "id": "8c413179-80b2-46d4-91bc-c28d06e4f0cd",
   "metadata": {},
   "outputs": [
    {
     "name": "stdout",
     "output_type": "stream",
     "text": [
      "Stabilizer generators:\n",
      "+ Z1\n",
      "- Z2\n",
      "+ Z2 X3 Z4\n",
      "+ Z3 X4 Z5\n",
      "+ Z4 X5\n",
      "+ Z0\n"
     ]
    }
   ],
   "source": [
    "psi.add_qubit(0)\n",
    "psi.display_state_pauli()"
   ]
  },
  {
   "cell_type": "code",
   "execution_count": null,
   "id": "04c100f9-766b-4b36-9107-58c19ef3d4d1",
   "metadata": {},
   "outputs": [],
   "source": []
  },
  {
   "cell_type": "code",
   "execution_count": null,
   "id": "606599fe-646a-4241-996b-b95cfd477a33",
   "metadata": {},
   "outputs": [],
   "source": []
  },
  {
   "cell_type": "code",
   "execution_count": null,
   "id": "633ed31e-6bc9-4057-9136-11886a8f2210",
   "metadata": {},
   "outputs": [],
   "source": []
  },
  {
   "cell_type": "code",
   "execution_count": null,
   "id": "0f8ec338-87a0-46c0-a836-2fc5226e477a",
   "metadata": {},
   "outputs": [],
   "source": []
  },
  {
   "cell_type": "code",
   "execution_count": null,
   "id": "179cbf2a-9998-4926-b630-0bb59cdccc7d",
   "metadata": {},
   "outputs": [],
   "source": []
  },
  {
   "cell_type": "code",
   "execution_count": null,
   "id": "ff104f6f-1eec-4e3f-b6ce-64bec0a48b2e",
   "metadata": {},
   "outputs": [],
   "source": []
  },
  {
   "cell_type": "code",
   "execution_count": null,
   "id": "17dd9bb9-9d85-4416-8735-08b09492b131",
   "metadata": {},
   "outputs": [],
   "source": []
  },
  {
   "cell_type": "code",
   "execution_count": null,
   "id": "7184aa6d-8784-4a04-a24d-7925799e154f",
   "metadata": {},
   "outputs": [],
   "source": []
  },
  {
   "cell_type": "code",
   "execution_count": null,
   "id": "ea1b6282-b1f1-4823-b04d-00195651f621",
   "metadata": {},
   "outputs": [],
   "source": []
  }
 ],
 "metadata": {
  "kernelspec": {
   "display_name": "Python 3 (ipykernel)",
   "language": "python",
   "name": "python3"
  },
  "language_info": {
   "codemirror_mode": {
    "name": "ipython",
    "version": 3
   },
   "file_extension": ".py",
   "mimetype": "text/x-python",
   "name": "python",
   "nbconvert_exporter": "python",
   "pygments_lexer": "ipython3",
   "version": "3.10.6"
  }
 },
 "nbformat": 4,
 "nbformat_minor": 5
}
